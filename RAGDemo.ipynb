{
 "cells": [
  {
   "cell_type": "markdown",
   "id": "79e6de41",
   "metadata": {},
   "source": [
    "Prepare the data"
   ]
  },
  {
   "cell_type": "code",
   "execution_count": 3,
   "id": "142d3a7f",
   "metadata": {},
   "outputs": [
    {
     "name": "stderr",
     "output_type": "stream",
     "text": [
      "/var/folders/3w/wrrjgv8n3kb0mj3897nsngbm0000gn/T/ipykernel_95366/1846378519.py:3: DtypeWarning: Columns (27) have mixed types. Specify dtype option on import or set low_memory=False.\n",
      "  df = pd.read_csv(\"barcelona_listings.csv\").loc[:200]\n"
     ]
    },
    {
     "data": {
      "text/html": [
       "<div>\n",
       "<style scoped>\n",
       "    .dataframe tbody tr th:only-of-type {\n",
       "        vertical-align: middle;\n",
       "    }\n",
       "\n",
       "    .dataframe tbody tr th {\n",
       "        vertical-align: top;\n",
       "    }\n",
       "\n",
       "    .dataframe thead th {\n",
       "        text-align: right;\n",
       "    }\n",
       "</style>\n",
       "<table border=\"1\" class=\"dataframe\">\n",
       "  <thead>\n",
       "    <tr style=\"text-align: right;\">\n",
       "      <th></th>\n",
       "      <th>id</th>\n",
       "      <th>listing_url</th>\n",
       "      <th>name</th>\n",
       "      <th>summary</th>\n",
       "      <th>space</th>\n",
       "      <th>description</th>\n",
       "      <th>neighborhood_overview</th>\n",
       "      <th>access</th>\n",
       "      <th>picture_url</th>\n",
       "      <th>host_id</th>\n",
       "      <th>...</th>\n",
       "      <th>last_review</th>\n",
       "      <th>review_scores_rating</th>\n",
       "      <th>review_scores_accuracy</th>\n",
       "      <th>review_scores_cleanliness</th>\n",
       "      <th>review_scores_checkin</th>\n",
       "      <th>review_scores_communication</th>\n",
       "      <th>review_scores_location</th>\n",
       "      <th>review_scores_value</th>\n",
       "      <th>instant_bookable</th>\n",
       "      <th>reviews_per_month</th>\n",
       "    </tr>\n",
       "  </thead>\n",
       "  <tbody>\n",
       "    <tr>\n",
       "      <th>0</th>\n",
       "      <td>18666</td>\n",
       "      <td>https://www.airbnb.com/rooms/18666</td>\n",
       "      <td>Flat with Sunny Terrace</td>\n",
       "      <td>Apartment located near the \"Plaza de las Glori...</td>\n",
       "      <td>Nice apartment situated on the penthouse floor...</td>\n",
       "      <td>Apartment located near the \"Plaza de las Glori...</td>\n",
       "      <td>Apartment in Barcelona near to the Plaza de la...</td>\n",
       "      <td>Free Wifi - air conditioning. We will provide ...</td>\n",
       "      <td>https://a0.muscache.com/im/pictures/47f88bc6-6...</td>\n",
       "      <td>71615</td>\n",
       "      <td>...</td>\n",
       "      <td>10/10/15</td>\n",
       "      <td>80.0</td>\n",
       "      <td>10.0</td>\n",
       "      <td>10.0</td>\n",
       "      <td>2.0</td>\n",
       "      <td>10.0</td>\n",
       "      <td>10.0</td>\n",
       "      <td>8.0</td>\n",
       "      <td>f</td>\n",
       "      <td>0.02</td>\n",
       "    </tr>\n",
       "    <tr>\n",
       "      <th>1</th>\n",
       "      <td>18674</td>\n",
       "      <td>https://www.airbnb.com/rooms/18674</td>\n",
       "      <td>Huge flat for 8 people close to Sagrada Familia</td>\n",
       "      <td>110m2 apartment to rent in Barcelona. Located ...</td>\n",
       "      <td>Apartment with 110 m2 located in the 6th floor...</td>\n",
       "      <td>110m2 apartment to rent in Barcelona. Located ...</td>\n",
       "      <td>Apartment in Barcelona located in the heart of...</td>\n",
       "      <td>Free Wifi - air conditioning. We will provide ...</td>\n",
       "      <td>https://a0.muscache.com/im/pictures/13031453/4...</td>\n",
       "      <td>71615</td>\n",
       "      <td>...</td>\n",
       "      <td>2/7/19</td>\n",
       "      <td>87.0</td>\n",
       "      <td>9.0</td>\n",
       "      <td>9.0</td>\n",
       "      <td>10.0</td>\n",
       "      <td>10.0</td>\n",
       "      <td>9.0</td>\n",
       "      <td>8.0</td>\n",
       "      <td>t</td>\n",
       "      <td>0.20</td>\n",
       "    </tr>\n",
       "    <tr>\n",
       "      <th>2</th>\n",
       "      <td>21605</td>\n",
       "      <td>https://www.airbnb.com/rooms/21605</td>\n",
       "      <td>Nice and sunny duble room</td>\n",
       "      <td>The flat is in Poblenou district, and the room...</td>\n",
       "      <td>L'apartament està al barri de Poblenou, i l'ha...</td>\n",
       "      <td>The flat is in Poblenou district, and the room...</td>\n",
       "      <td>Poblenou as one of the few areas that has grow...</td>\n",
       "      <td>The kitchen is fully equipped and can use the ...</td>\n",
       "      <td>https://a0.muscache.com/im/pictures/774ca73d-1...</td>\n",
       "      <td>82522</td>\n",
       "      <td>...</td>\n",
       "      <td>4/7/19</td>\n",
       "      <td>90.0</td>\n",
       "      <td>10.0</td>\n",
       "      <td>9.0</td>\n",
       "      <td>10.0</td>\n",
       "      <td>10.0</td>\n",
       "      <td>9.0</td>\n",
       "      <td>9.0</td>\n",
       "      <td>f</td>\n",
       "      <td>3.08</td>\n",
       "    </tr>\n",
       "    <tr>\n",
       "      <th>3</th>\n",
       "      <td>23197</td>\n",
       "      <td>https://www.airbnb.com/rooms/23197</td>\n",
       "      <td>FORUM DELUXE 5 MINS WALK  CCIB CENTER &amp; SEA!</td>\n",
       "      <td>I do not accept groups of young people under 2...</td>\n",
       "      <td>Elegant spacious apartment suitable for 6. Amp...</td>\n",
       "      <td>I do not accept groups of young people under 2...</td>\n",
       "      <td>Strategically located in the area of Parc del ...</td>\n",
       "      <td>You book the entire apartment for yourselves.</td>\n",
       "      <td>https://a0.muscache.com/im/pictures/738532/806...</td>\n",
       "      <td>90417</td>\n",
       "      <td>...</td>\n",
       "      <td>7/7/19</td>\n",
       "      <td>95.0</td>\n",
       "      <td>10.0</td>\n",
       "      <td>10.0</td>\n",
       "      <td>10.0</td>\n",
       "      <td>10.0</td>\n",
       "      <td>9.0</td>\n",
       "      <td>9.0</td>\n",
       "      <td>t</td>\n",
       "      <td>0.44</td>\n",
       "    </tr>\n",
       "    <tr>\n",
       "      <th>4</th>\n",
       "      <td>25786</td>\n",
       "      <td>https://www.airbnb.com/rooms/25786</td>\n",
       "      <td>NICE ROOM AVAILABLE IN THE HEART OF GRACIA</td>\n",
       "      <td>JUST GO THROUGH THE MANY REVIEWS I GOT THROUGH...</td>\n",
       "      <td>Room available for rent.-  PEDRO PEREZ.  Share...</td>\n",
       "      <td>JUST GO THROUGH THE MANY REVIEWS I GOT THROUGH...</td>\n",
       "      <td>Solo decir que a menudo ni salgo del barrio. M...</td>\n",
       "      <td>All access with respect. Kitchen facilities ne...</td>\n",
       "      <td>https://a0.muscache.com/im/pictures/6619f0c7-8...</td>\n",
       "      <td>108310</td>\n",
       "      <td>...</td>\n",
       "      <td>3/7/19</td>\n",
       "      <td>95.0</td>\n",
       "      <td>10.0</td>\n",
       "      <td>10.0</td>\n",
       "      <td>10.0</td>\n",
       "      <td>10.0</td>\n",
       "      <td>10.0</td>\n",
       "      <td>9.0</td>\n",
       "      <td>t</td>\n",
       "      <td>2.22</td>\n",
       "    </tr>\n",
       "  </tbody>\n",
       "</table>\n",
       "<p>5 rows × 62 columns</p>\n",
       "</div>"
      ],
      "text/plain": [
       "      id                         listing_url  \\\n",
       "0  18666  https://www.airbnb.com/rooms/18666   \n",
       "1  18674  https://www.airbnb.com/rooms/18674   \n",
       "2  21605  https://www.airbnb.com/rooms/21605   \n",
       "3  23197  https://www.airbnb.com/rooms/23197   \n",
       "4  25786  https://www.airbnb.com/rooms/25786   \n",
       "\n",
       "                                              name  \\\n",
       "0                          Flat with Sunny Terrace   \n",
       "1  Huge flat for 8 people close to Sagrada Familia   \n",
       "2                        Nice and sunny duble room   \n",
       "3     FORUM DELUXE 5 MINS WALK  CCIB CENTER & SEA!   \n",
       "4       NICE ROOM AVAILABLE IN THE HEART OF GRACIA   \n",
       "\n",
       "                                             summary  \\\n",
       "0  Apartment located near the \"Plaza de las Glori...   \n",
       "1  110m2 apartment to rent in Barcelona. Located ...   \n",
       "2  The flat is in Poblenou district, and the room...   \n",
       "3  I do not accept groups of young people under 2...   \n",
       "4  JUST GO THROUGH THE MANY REVIEWS I GOT THROUGH...   \n",
       "\n",
       "                                               space  \\\n",
       "0  Nice apartment situated on the penthouse floor...   \n",
       "1  Apartment with 110 m2 located in the 6th floor...   \n",
       "2  L'apartament està al barri de Poblenou, i l'ha...   \n",
       "3  Elegant spacious apartment suitable for 6. Amp...   \n",
       "4  Room available for rent.-  PEDRO PEREZ.  Share...   \n",
       "\n",
       "                                         description  \\\n",
       "0  Apartment located near the \"Plaza de las Glori...   \n",
       "1  110m2 apartment to rent in Barcelona. Located ...   \n",
       "2  The flat is in Poblenou district, and the room...   \n",
       "3  I do not accept groups of young people under 2...   \n",
       "4  JUST GO THROUGH THE MANY REVIEWS I GOT THROUGH...   \n",
       "\n",
       "                               neighborhood_overview  \\\n",
       "0  Apartment in Barcelona near to the Plaza de la...   \n",
       "1  Apartment in Barcelona located in the heart of...   \n",
       "2  Poblenou as one of the few areas that has grow...   \n",
       "3  Strategically located in the area of Parc del ...   \n",
       "4  Solo decir que a menudo ni salgo del barrio. M...   \n",
       "\n",
       "                                              access  \\\n",
       "0  Free Wifi - air conditioning. We will provide ...   \n",
       "1  Free Wifi - air conditioning. We will provide ...   \n",
       "2  The kitchen is fully equipped and can use the ...   \n",
       "3      You book the entire apartment for yourselves.   \n",
       "4  All access with respect. Kitchen facilities ne...   \n",
       "\n",
       "                                         picture_url  host_id  ...  \\\n",
       "0  https://a0.muscache.com/im/pictures/47f88bc6-6...    71615  ...   \n",
       "1  https://a0.muscache.com/im/pictures/13031453/4...    71615  ...   \n",
       "2  https://a0.muscache.com/im/pictures/774ca73d-1...    82522  ...   \n",
       "3  https://a0.muscache.com/im/pictures/738532/806...    90417  ...   \n",
       "4  https://a0.muscache.com/im/pictures/6619f0c7-8...   108310  ...   \n",
       "\n",
       "  last_review review_scores_rating review_scores_accuracy  \\\n",
       "0    10/10/15                 80.0                   10.0   \n",
       "1      2/7/19                 87.0                    9.0   \n",
       "2      4/7/19                 90.0                   10.0   \n",
       "3      7/7/19                 95.0                   10.0   \n",
       "4      3/7/19                 95.0                   10.0   \n",
       "\n",
       "  review_scores_cleanliness review_scores_checkin review_scores_communication  \\\n",
       "0                      10.0                   2.0                        10.0   \n",
       "1                       9.0                  10.0                        10.0   \n",
       "2                       9.0                  10.0                        10.0   \n",
       "3                      10.0                  10.0                        10.0   \n",
       "4                      10.0                  10.0                        10.0   \n",
       "\n",
       "  review_scores_location review_scores_value  instant_bookable  \\\n",
       "0                   10.0                 8.0                 f   \n",
       "1                    9.0                 8.0                 t   \n",
       "2                    9.0                 9.0                 f   \n",
       "3                    9.0                 9.0                 t   \n",
       "4                   10.0                 9.0                 t   \n",
       "\n",
       "  reviews_per_month  \n",
       "0              0.02  \n",
       "1              0.20  \n",
       "2              3.08  \n",
       "3              0.44  \n",
       "4              2.22  \n",
       "\n",
       "[5 rows x 62 columns]"
      ]
     },
     "execution_count": 3,
     "metadata": {},
     "output_type": "execute_result"
    }
   ],
   "source": [
    "import pandas as pd\n",
    "\n",
    "df = pd.read_csv(\"barcelona_listings.csv\").loc[:200]\n",
    "df.head()"
   ]
  },
  {
   "cell_type": "code",
   "execution_count": 4,
   "id": "38b34c03",
   "metadata": {},
   "outputs": [
    {
     "data": {
      "text/plain": [
       "id     listing_url  name   summary  space  description  neighborhood_overview  access  picture_url  host_id  host_url  host_name  host_since  host_response_time  host_response_rate  host_is_superhost  host_picture_url  host_neighbourhood  host_listings_count  host_verifications  host_has_profile_pic  host_identity_verified  street  neighbourhood  neighbourhood_cleansed  neighbourhood_group_cleansed  city   zipcode  country  latitude  longitude  is_location_exact  property_type  room_type  accommodates  bathrooms  bedrooms  beds   amenities  square_feet  price  cleaning_fee  minimum_nights  maximum_nights  has_availability  availability_30  availability_60  availability_90  availability_365  number_of_reviews  number_of_reviews_ltm  first_review  last_review  review_scores_rating  review_scores_accuracy  review_scores_cleanliness  review_scores_checkin  review_scores_communication  review_scores_location  review_scores_value  instant_bookable  reviews_per_month\n",
       "False  False        False  False    False  False        False                  False   False        False    False     False      False       False               False               False              False             False               False                False               False                 False                   False   False          False                   False                         False  False    False    False     False      False              False          False      False         False      False     False  False      True         False  False         False           False           False             False            False            False            False             False              False                  False         False        False                 False                   False                      False                  False                        False                   False                False             False                58\n",
       "                                                                                                                                                                                                                                                                                                                                                                                                                                                                                                                                                                   False        False  False         False           False           False             False            False            False            False             False              False                  False         False        False                 False                   False                      False                  False                        False                   False                False             False                30\n",
       "                                                        True                   True    False        False    False     False      False       False               False               False              False             False               False                False               False                 False                   False   False          False                   False                         False  False    False    False     False      False              False          False      False         False      False     False  False      True         False  False         False           False           False             False            False            False            False             False              False                  False         False        False                 False                   False                      False                  False                        False                   False                False             False                18\n",
       "                           True     False  False        True                   True    False        False    False     False      False       False               False               False              False             False               False                False               False                 False                   False   False          False                   False                         False  False    False    False     False      False              False          False      False         False      False     False  False      True         False  False         False           False           False             False            False            False            False             False              False                  False         False        False                 False                   False                      False                  False                        False                   False                False             False                11\n",
       "                           False    False  False        False                  True    False        False    False     False      False       False               False               False              False             False               False                False               False                 False                   False   False          False                   False                         False  False    False    False     False      False              False          False      False         False      False     False  False      True         False  False         False           False           False             False            False            False            False             False              False                  False         False        False                 False                   False                      False                  False                        False                   False                False             False                10\n",
       "                                                                                                                                                                                                                                                                                                                                                                                                                                                                                                                                                                   False        False  False         False           False           False             False            False            False            False             False              False                  False         False        False                 False                   False                      False                  False                        False                   False                False             False                 8\n",
       "                           True     False  False        True                   True    False        False    False     False      False       False               False               False              False             False               False                False               False                 False                   False   False          False                   False                         False  False    False    False     False      False              False          False      False         False      False     False  False      False        False  False         False           False           False             False            False            False            False             False              False                  False         False        False                 False                   False                      False                  False                        False                   False                False             False                 5\n",
       "                           False    False  False        True                   False   False        False    False     False      False       False               False               False              False             False               False                False               False                 False                   False   False          False                   False                         False  False    False    False     False      False              False          False      False         False      False     False  False      True         False  False         False           False           False             False            False            False            False             False              False                  False         False        False                 False                   False                      False                  False                        False                   False                False             False                 5\n",
       "                                                        False                  False   False        False    False     False      False       False               False               False              False             False               False                False               False                 False                   False   False          False                   False                         False  False    False    False     False      False              False          False      False         False      False     False  False      True         False  True          False           False           False             False            False            False            False             False              False                  False         False        False                 False                   False                      False                  False                        False                   False                False             False                 4\n",
       "                                                                                                                                                                                                                                                                                                                                                                                                                                                                                                                                                                   False        False  True          False           False           False             False            False            False            False             False              False                  False         False        False                 False                   False                      False                  False                        False                   False                False             False                 3\n",
       "                                                        True                   True    False        False    False     False      False       False               False               False              False             False               False                False               False                 False                   False   False          False                   False                         False  False    False    False     False      False              False          False      False         False      False     False  False      False        False  True          False           False           False             False            False            False            False             False              False                  False         False        False                 False                   False                      False                  False                        False                   False                False             False                 3\n",
       "                           True     False  False        False                  False   False        False    False     False      False       False               False               False              False             False               False                False               False                 False                   False   False          False                   False                         False  False    False    False     False      False              False          False      False         False      False     False  False      True         False  False         False           False           False             False            False            False            False             False              False                  False         False        False                 False                   False                      False                  False                        False                   False                False             False                 3\n",
       "                                                        True                   False   False        False    False     False      False       False               False               False              False             False               False                False               False                 False                   False   False          False                   False                         False  False    False    False     False      False              False          False      False         False      False     False  False      True         False  False         False           False           False             False            False            False            False             False              False                  False         False        False                 False                   False                      False                  False                        False                   False                False             False                 3\n",
       "                           False    False  False        False                  False   False        False    False     True       True        True                True                True               True              True                True                 True                True                  True                    False   False          False                   False                         False  False    False    False     False      False              False          False      False         False      False     False  False      True         False  False         False           False           False             False            False            False            False             False              False                  False         False        False                 False                   False                      False                  False                        False                   False                False             False                 3\n",
       "                                                                               True    False        False    False     False      False       False               False               False              False             False               False                False               False                 False                   False   False          False                   False                         False  True     False    False     False      False              False          False      False         False      False     False  False      True         False  False         False           False           False             False            False            False            False             False              False                  False         False        False                 False                   False                      False                  False                        False                   False                False             False                 3\n",
       "                                                                               False   False        False    False     False      False       False               False               False              False             False               False                False               False                 False                   False   False          False                   False                         False  True     False    False     False      False              False          False      False         False      False     False  False      True         False  False         False           False           False             False            False            False            False             False              False                  False         False        False                 False                   False                      False                  False                        False                   False                False             False                 2\n",
       "                                                        True                   True    False        False    False     False      False       False               False               False              False             False               False                False               False                 False                   False   False          False                   False                         False  False    False    False     False      False              False          False      False         False      False     False  False      True         False  True          False           False           False             False            False            False            False             False              False                  False         False        False                 False                   False                      False                  False                        False                   False                False             False                 2\n",
       "                                                                                                                                              True                True                False              False             False               False                False               False                 False                   False   False          False                   False                         False  False    False    False     False      False              False          False      False         False      False     False  False      True         False  False         False           False           False             False            False            False            False             False              False                  False         False        False                 False                   False                      False                  False                        False                   False                False             False                 2\n",
       "                                    True   False        False                  True    False        False    False     False      False       False               False               False              False             False               False                False               False                 False                   False   False          False                   False                         False  False    False    False     False      False              False          False      False         False      False     False  False      True         False  False         False           False           False             False            False            False            False             False              False                  False         False        False                 False                   False                      False                  False                        False                   False                False             False                 2\n",
       "                           True     False  False        True                   True    False        False    False     False      False       False               False               False              False             False               False                False               False                 False                   False   False          False                   False                         False  False    False    False     False      False              False          False      False         False      False     False  False      False        False  True          False           False           False             False            False            False            False             False              False                  False         False        False                 False                   False                      False                  False                        False                   False                False             False                 2\n",
       "                           False    False  False        True                   True    False        False    False     False      False       False               False               False              False             False               False                False               False                 False                   False   False          False                   False                         False  False    False    False     False      False              False          False      False         False      False     False  False      False        False  False         False           False           False             False            False            False            False             False              False                  False         False        False                 False                   False                      False                  False                        False                   False                False             False                 2\n",
       "                           True     False  False        True                   True    False        False    False     False      False       True                True                False              False             False               False                False               False                 False                   False   False          False                   False                         False  False    False    False     False      False              False          False      False         False      False     False  False      True         False  True          False           False           False             False            False            False            False             False              False                  False         False        False                 False                   False                      False                  False                        False                   False                False             False                 2\n",
       "                           False    False  False        False                  False   False        False    False     False      False       False               False               False              False             False               False                False               False                 False                   False   False          False                   False                         False  False    False    False     False      False              False          False      False         False      False     False  False      False        False  False         False           False           False             False            False            False            False             False              False                  True          True         True                  True                    True                       True                   True                         True                    True                 False             True                  1\n",
       "                                                                                                                                                                                                                                                                                                                                                                                                                                                                                                                                                                                                                                                                                                                                                                      False         False        True                  False                   False                      False                  False                        False                   False                False             False                 1\n",
       "                                                                                                                                                                                                                                                                                                                                                                                                                                                                                                                                                                   True         False  False         False           False           False             False            False            False            False             False              False                  True          True         True                  True                    True                       True                   True                         True                    True                 False             True                  1\n",
       "                                                                                                                                                                                                                                                                                                                                                                                                                                                                                                                                                                                                                                                                                                                                                                      False         False        True                  True                    True                       True                   True                         True                    True                 False             False                 1\n",
       "                                                                                                                                                                                                                                                                                                                                                                                                                          True     False    False     False      False              False          False      False         False      False     False  False      False        False  False         False           False           False             False            False            False            False             False              False                  False         False        False                 False                   False                      False                  False                        False                   False                False             False                 1\n",
       "                                                                                                                                                                                                                                                                                                                                                                                                                          False    False    False     False      False              False          False      False         True       False     False  False      True         False  True          False           False           False             False            False            False            False             False              False                  False         False        False                 False                   False                      False                  False                        False                   False                False             False                 1\n",
       "                                                        True                   False   False        False    False     False      False       False               False               False              False             False               False                False               False                 False                   False   False          False                   False                         False  False    False    False     False      False              False          False      False         True       False     False  False      True         False  False         False           False           False             False            False            False            False             False              False                  False         False        False                 False                   False                      False                  False                        False                   False                False             False                 1\n",
       "                                                        False                  False   False        False    False     False      False       False               False               False              False             True                False                False               False                 False                   False   True           False                   False                         False  False    False    False     False      False              False          False      False         False      False     False  False      False        False  False         False           False           False             False            False            False            False             False              False                  False         False        False                 False                   False                      False                  False                        False                   False                False             False                 1\n",
       "                                                                                                                                              True                True                False              False             False               False                False               False                 False                   False   False          False                   False                         False  False    False    False     False      False              False          False      False         False      False     False  False      False        False  False         False           False           False             False            False            False            False             False              False                  False         False        False                 False                   False                      False                  False                        False                   False                False             False                 1\n",
       "                                                                                                                                                                                                                                                                                                                                                                                                                                                                                                                                                                                       True          False           False           False             False            False            False            False             False              False                  True          True         True                  True                    True                       True                   True                         True                    True                 False             True                  1\n",
       "                                                                                                                                                                                                                                                                                                                                                                                                                                                                                                                                                                   True         False  False         False           False           False             False            False            False            False             False              False                  False         False        False                 False                   False                      False                  False                        False                   False                False             False                 1\n",
       "                                                                                                                       True       True        True                True                True               True              True                True                 True                True                  True                    False   False          False                   False                         False  False    False    False     False      False              False          False      False         False      False     False  False      False        False  False         False           False           False             False            False            False            False             False              False                  False         False        False                 False                   False                      False                  False                        False                   False                False             False                 1\n",
       "                                                                                                                       False      False       False               False               False              False             True                False                False               False                 False                   False   True           False                   False                         False  False    False    False     False      False              False          False      False         False      False     False  False      True         False  False         False           False           False             False            False            False            False             False              False                  False         False        False                 False                   False                      False                  False                        False                   False                False             False                 1\n",
       "                                                        True                   False   False        False    False     False      False       False               False               False              False             False               False                False               False                 False                   False   False          False                   False                         False  False    False    False     False      False              False          False      False         False      False     False  False      True         False  True          False           False           False             False            False            False            False             False              False                  False         False        False                 False                   False                      False                  False                        False                   False                False             False                 1\n",
       "                                                        False                  True    False        False    False     False      False       False               False               False              False             False               False                False               False                 False                   False   False          False                   False                         False  False    False    False     False      False              False          False      False         False      False     False  False      True         False  True          False           False           False             False            False            False            False             False              False                  False         False        False                 False                   False                      False                  False                        False                   False                False             False                 1\n",
       "                                    True   False        False                  True    False        False    False     False      False       False               False               False              False             False               False                False               False                 False                   False   False          False                   False                         False  False    False    False     False      False              False          False      False         False      False     False  False      False        False  False         False           False           False             False            False            False            False             False              False                  False         False        False                 False                   False                      False                  False                        False                   False                False             False                 1\n",
       "                                                        True                   False   False        False    False     False      False       False               False               False              False             False               False                False               False                 False                   False   False          False                   False                         False  False    False    False     False      False              False          False      False         False      False     False  False      True         False  False         False           False           False             False            False            False            False             False              False                  False         False        False                 False                   False                      False                  False                        False                   False                False             False                 1\n",
       "                           True     False  False        True                   False   False        False    False     False      False       False               False               False              False             False               False                False               False                 False                   False   False          False                   False                         False  False    False    False     False      False              False          False      False         False      False     False  False      False        False  False         False           False           False             False            False            False            False             False              False                  False         False        False                 False                   False                      False                  False                        False                   False                False             False                 1\n",
       "                                                                               True    False        False    False     False      False       False               False               False              False             False               False                False               False                 False                   False   False          False                   False                         False  False    False    False     False      False              False          False      False         False      False     False  False      True         False  True          False           False           False             False            False            False            False             False              False                  True          True         True                  True                    True                       True                   True                         True                    True                 False             True                  1\n",
       "                                                                                                                                                                                                                                                                                                                                                                                                                                                                                                                            True       False     False  False      False        False  False         False           False           False             False            False            False            False             False              False                  False         False        False                 False                   False                      False                  False                        False                   False                False             False                 1\n",
       "Name: count, dtype: int64"
      ]
     },
     "execution_count": 4,
     "metadata": {},
     "output_type": "execute_result"
    }
   ],
   "source": [
    "df.isna().value_counts()"
   ]
  },
  {
   "cell_type": "code",
   "execution_count": 5,
   "id": "d6bf8597",
   "metadata": {},
   "outputs": [
    {
     "name": "stderr",
     "output_type": "stream",
     "text": [
      "/var/folders/3w/wrrjgv8n3kb0mj3897nsngbm0000gn/T/ipykernel_95366/3777244692.py:1: FutureWarning: Setting an item of incompatible dtype is deprecated and will raise an error in a future version of pandas. Value 'None' has dtype incompatible with float64, please explicitly cast to a compatible dtype first.\n",
      "  df.fillna(\"None\", inplace=True)\n"
     ]
    }
   ],
   "source": [
    "df.fillna(\"None\", inplace=True)"
   ]
  },
  {
   "cell_type": "markdown",
   "id": "0dc83230",
   "metadata": {},
   "source": [
    "Convert the releveant filed to vector using BERT model"
   ]
  },
  {
   "cell_type": "code",
   "execution_count": 1,
   "id": "04fe4d90",
   "metadata": {},
   "outputs": [
    {
     "ename": "ModuleNotFoundError",
     "evalue": "No module named 'sentence_transformers'",
     "output_type": "error",
     "traceback": [
      "\u001b[31m---------------------------------------------------------------------------\u001b[39m",
      "\u001b[31mModuleNotFoundError\u001b[39m                       Traceback (most recent call last)",
      "\u001b[36mCell\u001b[39m\u001b[36m \u001b[39m\u001b[32mIn[1]\u001b[39m\u001b[32m, line 1\u001b[39m\n\u001b[32m----> \u001b[39m\u001b[32m1\u001b[39m \u001b[38;5;28;01mfrom\u001b[39;00m\u001b[38;5;250m \u001b[39m\u001b[34;01msentence_transformers\u001b[39;00m\u001b[38;5;250m \u001b[39m\u001b[38;5;28;01mimport\u001b[39;00m SentenceTransformer\n\u001b[32m      2\u001b[39m model = SentenceTransformer(\u001b[33m'\u001b[39m\u001b[33mall-mpnet-base-v2\u001b[39m\u001b[33m'\u001b[39m)\n",
      "\u001b[31mModuleNotFoundError\u001b[39m: No module named 'sentence_transformers'"
     ]
    }
   ],
   "source": [
    "from sentence_transformers import SentenceTransformer\n",
    "model = SentenceTransformer('all-mpnet-base-v2')"
   ]
  },
  {
   "cell_type": "code",
   "execution_count": 2,
   "id": "5ea4d096",
   "metadata": {},
   "outputs": [
    {
     "name": "stdout",
     "output_type": "stream",
     "text": [
      "2.1.3\n"
     ]
    }
   ],
   "source": [
    "import numpy\n",
    "print(numpy.__version__)"
   ]
  },
  {
   "cell_type": "code",
   "execution_count": null,
   "id": "3a3780c7",
   "metadata": {},
   "outputs": [],
   "source": [
    "df[\"DescriptionVector\"] = df[\"description\"].apply(lambda x: model.encode(x))\n",
    "df[\"DescriptionVector\"].head(5)"
   ]
  },
  {
   "cell_type": "markdown",
   "id": "0fd83f43",
   "metadata": {},
   "source": [
    "Converting Input to embedding and preparing the context"
   ]
  },
  {
   "cell_type": "code",
   "execution_count": null,
   "id": "a5b81a8f",
   "metadata": {},
   "outputs": [],
   "source": [
    "input_keyword = \"Spacious apartment for large families or group of friends, modernly equipped\"\n",
    "vector_of_input_keyword = model.encode(input_keyword)\n",
    "context = df[\"description\"].iloc[0] +  \"\\n\"   + df[\"description\"].iloc[1] +  \"\\n\"   + df[\"description\"].iloc[2] +  \"\\n\"   + df[\"description\"].iloc[3] +  \"\\n\"   + df[\"description\"].iloc[4] +  \"\\n\"\n",
    "print(context)"
   ]
  },
  {
   "cell_type": "markdown",
   "id": "b3e34ae2",
   "metadata": {},
   "source": [
    "Preraping Inference Client to interact with LLM"
   ]
  },
  {
   "cell_type": "code",
   "execution_count": null,
   "id": "828511a2",
   "metadata": {},
   "outputs": [],
   "source": [
    "from huggingface_hub import InferenceClient\n",
    "\n",
    "\n",
    "import json\n",
    "client = InferenceClient(\n",
    "    provider=\"nebius\",\n",
    "    model=\"NousResearch/Hermes-4-405B\",\n",
    "    api_key=\"HF_TOKEN\",\n",
    ")\n",
    "client"
   ]
  },
  {
   "cell_type": "code",
   "execution_count": null,
   "id": "a6b0a7c6",
   "metadata": {},
   "outputs": [],
   "source": [
    "question = \"What temperature should I set my thermostat on vacation in the winter so that pipes dont freeze?\"\n",
    "question2 = \"If you drop a soap on the floor,is the soap dirty or the floor clean?\"\n",
    "question  "
   ]
  },
  {
   "cell_type": "markdown",
   "id": "b54fae59",
   "metadata": {},
   "source": [
    "Querying LLM using Hugging Face Inference Client"
   ]
  },
  {
   "cell_type": "code",
   "execution_count": null,
   "id": "521aa970",
   "metadata": {},
   "outputs": [],
   "source": [
    "completion = client.chat.completions.create(\n",
    "    model=\"mistralai/Mistral-7B-Instruct-v0.2\",\n",
    "    messages=[\n",
    "        {\n",
    "            \"role\": \"user\",\"content\": question2\n",
    "        }\n",
    "    ],\n",
    ")\n",
    "completion.choices[0].message.content"
   ]
  },
  {
   "cell_type": "markdown",
   "id": "dba4620b",
   "metadata": {},
   "source": [
    "Prompt before prompt example"
   ]
  },
  {
   "cell_type": "code",
   "execution_count": null,
   "id": "3c949845",
   "metadata": {},
   "outputs": [],
   "source": [
    "completion = client.chat.completions.create(\n",
    "    model=\"mistralai/Mistral-7B-Instruct-v0.2\",\n",
    "    messages=[\n",
    "        {\"role\": \"system\",\"content\": \"You are a helpful assistant that helps people find information.Please answer as if you are talking to a 10 year old.\"},\n",
    "        {\"role\": \"user\",\"content\": question2}\n",
    "       \n",
    "    ],\n",
    ")\n",
    "completion.choices[0].message.content"
   ]
  },
  {
   "cell_type": "code",
   "execution_count": null,
   "id": "32570f90",
   "metadata": {},
   "outputs": [],
   "source": [
    "completion = client.chat.completions.create(\n",
    "    model=\"mistralai/Mistral-7B-Instruct-v0.2\",\n",
    "    messages=[\n",
    "        {\"role\": \"system\",\"content\": \"You are a helpful assistant that helps people find information.Please answer in poem form.\"},\n",
    "        {\"role\": \"user\",\"content\": question2}\n",
    "       \n",
    "    ],\n",
    ")\n",
    "print(completion.choices[0].message.content)"
   ]
  },
  {
   "cell_type": "markdown",
   "id": "0b8f5705",
   "metadata": {},
   "source": [
    "RAG Demo : Providing Context to LLM to better assist user"
   ]
  },
  {
   "cell_type": "code",
   "execution_count": null,
   "id": "1ad52c1a",
   "metadata": {},
   "outputs": [],
   "source": [
    "response = client.chat.completions.create(\n",
    "    model=\"mistralai/Mistral-7B-Instruct-v0.2\",\n",
    "    messages=[\n",
    "        {\"role\": \"system\", \"content\": \"You are a helpful assistant who is helping airbnb system to respond to user questions. When you answer the question, use the first person (e.g. We) to refer to AirBNB.\"},\n",
    "        {\"role\": \"user\", \"content\": input_keyword},\n",
    "        {\"role\": \"assistant\", \"content\": f\"Use this information as context to answer the user question: {context}. Please stick to the context and do not make up answers.\"}\n",
    "    ]\n",
    ")\n",
    "print(input_keyword)\n",
    "print(context)\n",
    "response.choices[0].message.content"
   ]
  },
  {
   "cell_type": "markdown",
   "id": "7752d8b3",
   "metadata": {},
   "source": [
    "Calculating distance from available data to input query to find better match of data"
   ]
  },
  {
   "cell_type": "code",
   "execution_count": null,
   "id": "25785a27",
   "metadata": {},
   "outputs": [],
   "source": [
    "def fn(page_embedding):\n",
    "    return numpy.dot(page_embedding, vector_of_input_keyword) \n",
    "df[\"distance\"] = df[\"DescriptionVector\"].apply(fn)\n",
    "df.head()"
   ]
  },
  {
   "cell_type": "markdown",
   "id": "17a28ea7",
   "metadata": {},
   "source": [
    "Sorting available data to provide more releveant data to LLM"
   ]
  },
  {
   "cell_type": "code",
   "execution_count": null,
   "id": "f01448da",
   "metadata": {},
   "outputs": [],
   "source": [
    "df.sort_values(by=\"distance\", ascending=False, inplace=True)\n",
    "df"
   ]
  },
  {
   "cell_type": "markdown",
   "id": "47101691",
   "metadata": {},
   "source": [
    "Preparing context based on sorted data"
   ]
  },
  {
   "cell_type": "code",
   "execution_count": null,
   "id": "3bea295a",
   "metadata": {},
   "outputs": [],
   "source": [
    "context2 = df[\"description\"].iloc[0] +  \"\\n\"   + df[\"description\"].iloc[1] +  \"\\n\"   + df[\"description\"].iloc[2] +  \"\\n\"   + df[\"description\"].iloc[3] +  \"\\n\"   + df[\"description\"].iloc[4] +  \"\\n\"\n",
    "print(context2)"
   ]
  },
  {
   "cell_type": "markdown",
   "id": "2fc61a1c",
   "metadata": {},
   "source": [
    "Querying LLM with sorted context and input query"
   ]
  },
  {
   "cell_type": "code",
   "execution_count": null,
   "id": "bf9e1519",
   "metadata": {},
   "outputs": [],
   "source": [
    "response2 = client.chat.completions.create(\n",
    "    model=\"mistralai/Mistral-7B-Instruct-v0.2\",\n",
    "    messages=[\n",
    "        {\"role\": \"system\", \"content\": \"You are a helpful assistant who is helping airbnb system to respond to user questions. When you answer the question, use the first person (e.g. We) to refer to AirBNB.\"},\n",
    "        {\"role\": \"user\", \"content\": input_keyword},\n",
    "        {\"role\": \"assistant\", \"content\": f\"Use this information as context to answer the user question: {context2}. Please stick to the context and do not make up answers.\"}\n",
    "    ]\n",
    ")\n",
    "print(input_keyword)\n",
    "print(context2)\n",
    "response2.choices[0].message.content"
   ]
  }
 ],
 "metadata": {
  "kernelspec": {
   "display_name": "base",
   "language": "python",
   "name": "python3"
  },
  "language_info": {
   "codemirror_mode": {
    "name": "ipython",
    "version": 3
   },
   "file_extension": ".py",
   "mimetype": "text/x-python",
   "name": "python",
   "nbconvert_exporter": "python",
   "pygments_lexer": "ipython3",
   "version": "3.13.5"
  }
 },
 "nbformat": 4,
 "nbformat_minor": 5
}
